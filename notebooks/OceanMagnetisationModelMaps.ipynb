{
 "cells": [
  {
   "cell_type": "markdown",
   "metadata": {},
   "source": [
    "# Calculate PaleoInclination and PaleoDeclination Grids"
   ]
  },
  {
   "cell_type": "markdown",
   "metadata": {},
   "source": [
    "This script takes an age grid and plate reconstruction model (presumably self-consistent ones) and derives grids defining the inclination and declination of the magnetising field at each pixel within the oceans. Each pixel is reconstructed bakc to its birth position, based on the rotation file and the age and plate id at that pixel - the plate id is taken from a pre-prepared input grid with consistent dimensions (ie already cookie-cut, since this is currently quite slow). The fixed plate is assumed to be zero, so all pixels are reconstructed back to their absolute location at the time of formation."
   ]
  },
  {
   "cell_type": "code",
   "execution_count": null,
   "metadata": {
    "collapsed": false,
    "jupyter": {
     "outputs_hidden": false
    },
    "tags": []
   },
   "outputs": [],
   "source": [
    "import time\n",
    "import ocean_remanence_vectors as orv\n",
    "\n",
    "from gprm.datasets import Reconstructions\n",
    "\n",
    "#M2019 = Reconstructions.fetch_Muller2019()\n",
    "M2021 = Reconstructions.fetch_Merdith2021()\n",
    "\n",
    "%matplotlib inline\n",
    "%load_ext autoreload\n",
    "%autoreload 2"
   ]
  },
  {
   "cell_type": "code",
   "execution_count": null,
   "metadata": {
    "collapsed": false,
    "jupyter": {
     "outputs_hidden": false
    },
    "tags": []
   },
   "outputs": [],
   "source": [
    "grd_spacing = 0.1\n",
    "\n",
    "age_grid_filename = '/Users/simon/Data/GeoData/Rasters/Seafloor_Age_Grid/Seton_etal_2020_PresentDay_AgeGrid.nc'\n",
    "static_polygon_filename = '/Users/simon/Library/Caches/gprm/Muller2019/Muller_etal_2019_PlateMotionModel_v2.0_Tectonics/StaticGeometries/StaticPolygons/Global_EarthByte_GPlates_PresentDay_StaticPlatePolygons_2019_v2.shp'\n",
    "\n",
    "# Load coregistered grids of seafloor age and plate id.\n",
    "# If grd_spacing is not specified, we'll use the sampling of the existing age grid\n",
    "age_grid, plate_id_raster = orv.build_input_grids(age_grid_filename,\n",
    "                                                  static_polygon_filename,\n",
    "                                                  grd_spacing)\n",
    "\n",
    "age_grid.plot()\n"
   ]
  },
  {
   "cell_type": "code",
   "execution_count": null,
   "metadata": {
    "collapsed": false,
    "jupyter": {
     "outputs_hidden": false
    },
    "tags": []
   },
   "outputs": [],
   "source": [
    "# run the reconstruction to get a geodataframe of points on a regular grid,\n",
    "# with the columns needed to make grids of paleolat and paleodec\n",
    "\n",
    "start = time.process_time()\n",
    "\n",
    "(paleo_latitude,\n",
    " paleo_declination) = orv.reconstruct_agegrid_to_birthtime(\n",
    "    M2021, \n",
    "    age_grid, \n",
    "    plate_id_raster, \n",
    "    return_type='xarray')\n",
    "\n",
    "print(time.process_time() - start)\n",
    "\n",
    "#rfeatures.plot(column='paleo_inclination')\n",
    "paleo_latitude.plot()\n"
   ]
  },
  {
   "cell_type": "markdown",
   "metadata": {},
   "source": [
    "This section writes out the data to netcdf files. \n",
    "\n",
    "[NB GMT doesn't like these grids, even with the 'type' set to NETCDF3, but they read fine in Panoply, matlab, and back into Python]"
   ]
  },
  {
   "cell_type": "code",
   "execution_count": null,
   "metadata": {
    "collapsed": false,
    "jupyter": {
     "outputs_hidden": false
    },
    "tags": []
   },
   "outputs": [],
   "source": [
    "paleo_declination.to_netcdf('./grids/paleo_declination_Seton2020_Muller2019_Merdith2021.nc')\n",
    "paleo_latitude.to_netcdf('./grids/paleo_latitude_Seton2020_Muller2019_Merdith2021.nc')\n",
    "age_grid.to_netcdf('./grids/paleo_age_Seton2020_Muller2019_Merdith2021.nc')\n",
    "\n",
    "#ModelName = 'Muller2016_PMAG'\n",
    "\n",
    "#vt.WriteCDFGrid('../input_grids/%s_PaleoDec_6m.nc' % ModelName,pdagX,pdagY,PaleoDec)\n",
    "#vt.WriteCDFGrid('../input_grids/%s_PaleoLat_6m.nc' % ModelName,pdagX,pdagY,Yr)\n",
    "#vt.WriteCDFGrid('../input_grids/%s_AgeGrid_6m.nc' % ModelName,pdagX,pdagY,pdagZ)\n",
    "\n"
   ]
  },
  {
   "cell_type": "code",
   "execution_count": null,
   "metadata": {},
   "outputs": [],
   "source": []
  }
 ],
 "metadata": {
  "kernelspec": {
   "display_name": "Python [conda env:pygmt10]",
   "language": "python",
   "name": "conda-env-pygmt10-py"
  },
  "language_info": {
   "codemirror_mode": {
    "name": "ipython",
    "version": 3
   },
   "file_extension": ".py",
   "mimetype": "text/x-python",
   "name": "python",
   "nbconvert_exporter": "python",
   "pygments_lexer": "ipython3",
   "version": "3.10.13"
  }
 },
 "nbformat": 4,
 "nbformat_minor": 4
}
