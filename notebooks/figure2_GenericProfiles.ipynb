{
 "cells": [
  {
   "cell_type": "code",
   "execution_count": 1,
   "id": "c499eccf-f4cb-41ce-bbb0-b25deae2e7b4",
   "metadata": {
    "tags": []
   },
   "outputs": [
    {
     "data": {
      "text/plain": [
       "False"
      ]
     },
     "execution_count": 1,
     "metadata": {},
     "output_type": "execute_result"
    }
   ],
   "source": [
    "import sys\n",
    "sys.path.append('../')\n",
    "import matplotlib.pyplot as plt\n",
    "import matplotlib as mpl\n",
    "import numpy as np\n",
    "\n",
    "from basis_models import load_vim_models\n",
    "\n",
    "\n",
    "%load_ext autoreload\n",
    "%autoreload 2\n",
    "\n",
    "mpl.rcParams['font.family'] = \"sans-serif\"\n",
    "mpl.rcParams['font.sans-serif'] = \"arial\"\n",
    "mpl.rcParams['text.usetex'] == True\n"
   ]
  },
  {
   "cell_type": "code",
   "execution_count": 2,
   "id": "dec650fc-3f5b-4ad1-813f-67ab71962dfd",
   "metadata": {
    "tags": []
   },
   "outputs": [],
   "source": [
    "model_dict = load_vim_models(['DAH981', 'LR85', 'GK07', 'DAH982'])\n",
    "rvim1d_TRM = model_dict['DAH981']['profile']\n",
    "rvim1d_CRM = model_dict['LR85']['profile']\n",
    "rvim1d_Geek = model_dict['GK07']['profile']\n",
    "rvim1d_Partials = model_dict['DAH982']['profile']\n"
   ]
  },
  {
   "cell_type": "code",
   "execution_count": null,
   "id": "ee9b44c3-fc19-4028-94ef-9d1a41aea32f",
   "metadata": {
    "tags": []
   },
   "outputs": [],
   "source": [
    "from mpl_toolkits.axes_grid1.inset_locator import inset_axes\n",
    "lw=0.6\n",
    "ylim = (-20000,20000)\n",
    "\n",
    "fig = plt.figure(figsize=(7,9))#, constrained_layout=True)\n",
    "spec = fig.add_gridspec(ncols=1, nrows=19, hspace=0.5)#,\n",
    "                        #height_ratios=[1.2,1.2,1.2,1.2,2,1])\n",
    "\n",
    "\n",
    "ax = fig.add_subplot(spec[0:2,0])\n",
    "ax.plot(rvim1d_TRM.age, rvim1d_TRM.RVIM, 'k', linewidth=lw)\n",
    "ax.set_xlim(0,160)\n",
    "ax.set_xticklabels('')\n",
    "ax.grid()\n",
    "ax.set_ylim(ylim)\n",
    "ax.set_title('DAH981: pure TRM, constant layer thickness')\n",
    "\n",
    "ax = fig.add_subplot(spec[2:4,0])\n",
    "m = ax.pcolormesh(rvim1d_TRM.age, [0,0.5], np.tile(rvim1d_TRM.RM,(2,1)), vmin=-20000, vmax=20000, cmap='seismic')\n",
    "ax.set_ylim(3,0)\n",
    "ax.set_xlim(0,160)\n",
    "ax.set_xticklabels('')\n",
    "ax.set_ylabel('Depth [km]')\n",
    "\n",
    "cax = inset_axes(ax, width=\"25%\", height=\"8%\", loc='lower left', borderpad=1.8)\n",
    "fig.colorbar(m, cax=cax, orientation=\"horizontal\")\n",
    "cax.xaxis.set_ticks_position(\"bottom\")\n",
    "\n",
    "\n",
    "###############################################\n",
    "ax = fig.add_subplot(spec[5:7,0])\n",
    "ax.plot(rvim1d_CRM.age, rvim1d_CRM.RVIM, 'k', linewidth=lw)\n",
    "ax.set_xlim(0,160)\n",
    "ax.set_xticklabels('')\n",
    "ax.grid()\n",
    "ax.set_ylim(ylim)\n",
    "ax.set_title('HM05: TRM + CRM, constant layer thickness')\n",
    "\n",
    "ax = fig.add_subplot(spec[7:9,0])\n",
    "m = ax.pcolormesh(rvim1d_CRM.age, rvim1d_CRM.depth/1000., rvim1d_CRM.RM, vmin=-2000, vmax=2000, cmap='seismic')\n",
    "ax.set_ylim(3,0)\n",
    "ax.set_xlim(0,160)\n",
    "ax.set_xticklabels('')\n",
    "ax.set_ylabel('Depth [km]')\n",
    "\n",
    "cax = inset_axes(ax, width=\"25%\", height=\"8%\", loc='lower left', borderpad=1.8)\n",
    "fig.colorbar(m, cax=cax, orientation=\"horizontal\")\n",
    "cax.xaxis.set_ticks_position(\"bottom\")\n",
    "\n",
    "\n",
    "###############################################\n",
    "ax = fig.add_subplot(spec[10:12,0])\n",
    "ax.plot(rvim1d_Geek.age, rvim1d_Geek.RVIM, 'k', linewidth=lw)\n",
    "ax.set_xlim(0,160)\n",
    "ax.set_xticklabels('')\n",
    "ax.grid()\n",
    "ax.set_ylim(ylim)\n",
    "ax.set_title('GK07: pure TRM, sloping magnetization boundaries')\n",
    "\n",
    "ax = fig.add_subplot(spec[12:14,0])\n",
    "m = ax.pcolormesh(rvim1d_Geek.age, rvim1d_Geek.depth/1000., rvim1d_Geek.RM, vmin=-2000, vmax=2000, cmap='seismic')\n",
    "ax.set_ylim(13,0)\n",
    "ax.set_xlim(0,160)\n",
    "ax.set_xticklabels('')\n",
    "ax.set_ylabel('Depth [km]')\n",
    "\n",
    "cax = inset_axes(ax, width=\"25%\", height=\"8%\", loc='lower left', borderpad=1.8)\n",
    "fig.colorbar(m, cax=cax, orientation=\"horizontal\")\n",
    "cax.xaxis.set_ticks_position(\"bottom\")\n",
    "\n",
    "\n",
    "###############################################\n",
    "ax = fig.add_subplot(spec[15:17,0])\n",
    "ax.plot(rvim1d_Partials.age, rvim1d_Partials.RVIM, 'k', linewidth=lw)\n",
    "ax.set_xlim(0,160)\n",
    "ax.set_xticklabels('')\n",
    "ax.grid()\n",
    "ax.set_ylim(ylim)\n",
    "ax.set_title('DAH982, magnetization acquired between blocking temperatures')\n",
    "\n",
    "ax = fig.add_subplot(spec[17:19,0])\n",
    "m = ax.pcolormesh(rvim1d_Partials.age, rvim1d_Partials.depth/1000., rvim1d_Partials.RM, vmin=-200, vmax=200, cmap='seismic')\n",
    "ax.set_ylim(25,0)\n",
    "ax.set_xlim(0,160)\n",
    "ax.set_ylabel('Depth [km]')\n",
    "\n",
    "cax = inset_axes(ax, width=\"25%\", height=\"8%\", loc='lower left', borderpad=1.8)\n",
    "fig.colorbar(m, cax=cax, orientation=\"horizontal\")\n",
    "cax.xaxis.set_ticks_position(\"bottom\")\n",
    "\n",
    "\n",
    "ax.set_xlabel('Age (Ma)', fontsize=12)\n",
    "\n",
    "fig.savefig('./figures/figure2_VIM_profiles.png', dpi=300)\n",
    "fig.show()\n",
    "\n"
   ]
  },
  {
   "cell_type": "code",
   "execution_count": null,
   "id": "acd4b26c-eb01-4d6f-af36-36ec96cfaef1",
   "metadata": {},
   "outputs": [],
   "source": []
  }
 ],
 "metadata": {
  "kernelspec": {
   "display_name": "Python [conda env:pygmt10]",
   "language": "python",
   "name": "conda-env-pygmt10-py"
  },
  "language_info": {
   "codemirror_mode": {
    "name": "ipython",
    "version": 3
   },
   "file_extension": ".py",
   "mimetype": "text/x-python",
   "name": "python",
   "nbconvert_exporter": "python",
   "pygments_lexer": "ipython3",
   "version": "3.10.13"
  }
 },
 "nbformat": 4,
 "nbformat_minor": 5
}
