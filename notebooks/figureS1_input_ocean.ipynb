{
 "cells": [
  {
   "cell_type": "code",
   "execution_count": null,
   "id": "52be5c04-e2b7-41d1-b9a7-2b0501cef5f6",
   "metadata": {
    "tags": []
   },
   "outputs": [],
   "source": [
    "import pygmt\n",
    "\n",
    "\n"
   ]
  },
  {
   "cell_type": "code",
   "execution_count": null,
   "id": "2f1742d5-498c-4cca-9b68-6f13f90f7d55",
   "metadata": {
    "tags": []
   },
   "outputs": [],
   "source": [
    "projection='N0/4i'\n",
    "region = 'g'\n",
    "\n",
    "\n",
    "fig = pygmt.Figure()\n",
    "with fig.subplot(nrows=3, ncols=1, figsize=(\"4i\", \"8i\"), frame=\"lrtb\", autolabel='+gwhite+pblack', margins='0.2i'):\n",
    "    with fig.set_panel(panel=0, fixedlabel='a) Seafloor Age'):\n",
    "        \n",
    "        pygmt.makecpt(cmap='inferno', series='0/150', reverse=True)\n",
    "        fig.grdimage(region=region, projection=projection, \n",
    "                     grid = '../remit/data/oceans/paleo_age_Seton2020_Muller2019_Merdith2021.nc',\n",
    "                     interpolation='n', transparency=20)\n",
    "\n",
    "        pygmt.config(COLOR_FOREGROUND='white', COLOR_BACKGROUND='black')\n",
    "        fig.coast(shorelines='0.5p,gray20', resolution='l', area_thresh=5000.,\n",
    "                  region=region, projection=projection, land='gray', transparency=20)\n",
    "        fig.basemap(frame='afg', region=region, projection=projection)\n",
    "        with pygmt.config(FONT_ANNOT_PRIMARY='6p', FONT_LABEL='8p'):\n",
    "            fig.colorbar(position='JTR+jTR+o0.0c+w2.5c/0.25c+h', frame=['x+l[Myr]'], box='+gwhite+p0.5p')\n",
    "        \n",
    "    with fig.set_panel(panel=1, fixedlabel='b) Paleolatitude'):\n",
    "        \n",
    "        pygmt.makecpt(cmap='polar', series='-90/90', reverse=True)\n",
    "        fig.grdimage(region=region, projection=projection, \n",
    "                     grid = '../remit/data/oceans/paleo_latitude_Seton2020_Muller2019_Merdith2021.nc',\n",
    "                     interpolation='n', transparency=20)\n",
    "\n",
    "        pygmt.config(COLOR_FOREGROUND='white', COLOR_BACKGROUND='black')\n",
    "        fig.coast(shorelines='0.5p,gray20', resolution='l', area_thresh=5000.,\n",
    "                  region=region, projection=projection, land='gray', transparency=20)\n",
    "        fig.basemap(frame='afg', region=region, projection=projection)\n",
    "        with pygmt.config(FONT_ANNOT_PRIMARY='6p', FONT_LABEL='8p'):\n",
    "            fig.colorbar(position='JTR+jTR+o0.0c+w2.5c/0.25c+h', frame=['x+l[degrees]'], box='+gwhite+p0.5p')\n",
    "        \n",
    "    with fig.set_panel(panel=2, fixedlabel='c) Paleodeclination'):\n",
    "        \n",
    "        pygmt.makecpt(cmap='polar', series='-90/90', reverse=True)\n",
    "        fig.grdimage(region=region, projection=projection, \n",
    "                     grid = '../remit/data/oceans/paleo_declination_Seton2020_Muller2019_Merdith2021.nc',\n",
    "                     interpolation='n', transparency=20)\n",
    "\n",
    "        pygmt.config(COLOR_FOREGROUND='white', COLOR_BACKGROUND='black')\n",
    "        fig.coast(shorelines='0.5p,gray20', resolution='l', area_thresh=5000.,\n",
    "                  region=region, projection=projection, land='gray', transparency=20)\n",
    "        fig.basemap(frame='afg', region=region, projection=projection)\n",
    "        with pygmt.config(FONT_ANNOT_PRIMARY='6p', FONT_LABEL='8p'):\n",
    "            fig.colorbar(position='JTR+jTR+o0.0c+w2.5c/0.25c+h', frame=['x+l[degrees]'], box='+gwhite+p0.5p')\n",
    "\n",
    "fig.savefig('./figures/figure_S1_ocean_inputs.png')\n",
    "fig.show(width=800)\n"
   ]
  },
  {
   "cell_type": "code",
   "execution_count": null,
   "id": "88a3e4bf-433c-4c85-bfc8-9e328359d76f",
   "metadata": {},
   "outputs": [],
   "source": []
  }
 ],
 "metadata": {
  "kernelspec": {
   "display_name": "Python [conda env:pygmt10]",
   "language": "python",
   "name": "conda-env-pygmt10-py"
  },
  "language_info": {
   "codemirror_mode": {
    "name": "ipython",
    "version": 3
   },
   "file_extension": ".py",
   "mimetype": "text/x-python",
   "name": "python",
   "nbconvert_exporter": "python",
   "pygments_lexer": "ipython3",
   "version": "3.10.13"
  }
 },
 "nbformat": 4,
 "nbformat_minor": 5
}
