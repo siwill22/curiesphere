{
 "cells": [
  {
   "cell_type": "code",
   "execution_count": null,
   "id": "1f22666d-82ac-40b2-8f27-168998a446fc",
   "metadata": {
    "tags": []
   },
   "outputs": [],
   "source": [
    "import sys\n",
    "sys.path.append('../')\n",
    "#import matplotlib.pyplot as plt\n",
    "import numpy as np\n",
    "import pygmt\n",
    "#import pandas as pd\n",
    "#import geopandas as gpd\n",
    "import pyshtools\n",
    "#import pygplates\n",
    "#from remit.earthvim import SeafloorGrid\n",
    "#from remit.earthvim import SeafloorAgeProfile\n",
    "from remit.earthvim import PolarityTimescale\n",
    "#from remit.earthvim import GlobalVIS\n",
    "from remit.utils.grid import make_dataarray\n",
    "from gprm.datasets import Seafloor\n",
    "\n",
    "from remit.data.models import load_lcs, load_ocean_age_model\n",
    "\n",
    "\n",
    "%load_ext autoreload\n",
    "%autoreload 2\n"
   ]
  },
  {
   "cell_type": "code",
   "execution_count": null,
   "id": "0dd22d84-3ea6-4ae5-b540-35de9fc8eb18",
   "metadata": {
    "tags": []
   },
   "outputs": [],
   "source": [
    "ocean = load_ocean_age_model()\n",
    "\n",
    "pol = PolarityTimescale()\n",
    "polarity_da = make_dataarray(ocean.lon, ocean.lat, pol.Interpolator(ocean.age))\n",
    "polarity_da.data[np.isnan(ocean.age.data)] = np.nan\n",
    "\n",
    "\n",
    "def coeffs2map(coeffs, altitude=300000, lmax=133, lmin=16):\n",
    "    \n",
    "    if isinstance(coeffs, str):\n",
    "        clm, _ = pyshtools.shio.shread(coeffs)\n",
    "        coeffs = pyshtools.SHMagCoeffs.from_array(clm, r0=6371000.)\n",
    "        \n",
    "    coeffs.coeffs[:,:lmin,:lmin] = 0\n",
    "    x = coeffs.expand(extend=True, a=coeffs.r0+altitude, lmax=lmax)\n",
    "    return x.rad.to_xarray()\n"
   ]
  },
  {
   "cell_type": "code",
   "execution_count": null,
   "id": "76509582-765c-400c-ad6f-d493b088483f",
   "metadata": {
    "tags": []
   },
   "outputs": [],
   "source": [
    "lmax = 185\n",
    "cmax = 50\n",
    "\n",
    "lcs_coeffs = load_lcs()\n",
    "LCS_rad_0km = coeffs2map(lcs_coeffs, altitude=0, lmax=lmax, lmin=16)\n",
    "#LCS_rad_0km = coeffs2map('../glm/LCS_mod.cof', altitude=0, lmax=lmax, lmin=16)\n",
    "LCS_rad_300km = coeffs2map(lcs_coeffs, altitude=300000, lmax=lmax, lmin=16)\n"
   ]
  },
  {
   "cell_type": "code",
   "execution_count": null,
   "id": "bb0cd535-316f-4cb8-939b-0133a370ee29",
   "metadata": {
    "tags": []
   },
   "outputs": [],
   "source": [
    "def plot_mag_map(fig, rad, projection, region, cmax):\n",
    "\n",
    "    radi = pygmt.grdsample(grid=rad, spacing='0.05d')\n",
    "    pygmt.config(COLOR_FOREGROUND='red', COLOR_BACKGROUND='blue')\n",
    "    pygmt.makecpt(cmap='polar', series='-{:f}/{:f}'.format(float(cmax), float(cmax)), reverse=True)\n",
    "    radi.to_netcdf('./grids/_tmp.nc')\n",
    "    fig.grdimage(region=region, projection=projection, \n",
    "                 grid='./grids/_tmp.nc', transparency=10)\n",
    "\n",
    "    fig.coast(shorelines='0.5p,gray20', resolution='l', area_thresh=5000.,\n",
    "              region=region, projection=projection, land='gray', transparency=20)\n",
    "    fig.basemap(frame='f', region=region, projection=projection)\n",
    "    with pygmt.config(FONT_ANNOT_PRIMARY='6p', FONT_LABEL='8p'):\n",
    "        fig.colorbar(position='JTR+jTR+o0.5c/0.0c+w2.5c/0.25c+h', frame=['x+lRadial component [nT]'], box='+gwhite+p0.5p')\n",
    "\n",
    "\n",
    "    \n",
    "def plot_polarity(fig, polarity_da, projection, region):\n",
    "    pygmt.makecpt(cmap='hot', series=[-1.5,1.5,1.5], reverse=True, overrule_bg=True)\n",
    "    polarity_da.to_netcdf('./grids/_tmp.nc')\n",
    "    fig.grdimage(region=region, projection=projection, \n",
    "                 grid = './grids/_tmp.nc',\n",
    "                 interpolation='n', transparency=40)\n",
    "\n",
    "    fig.coast(shorelines='0.5p,gray20', resolution='l', area_thresh=5000.,\n",
    "              region=region, projection=projection, land='gray', transparency=20)\n",
    "    fig.basemap(frame='f', region=region, projection=projection)\n",
    "      \n",
    "    with pygmt.config(FONT_ANNOT_PRIMARY='1p,white', FONT_LABEL='8p', MAP_TICK_LENGTH_PRIMARY='0p', MAP_FRAME_PEN='1p,black'):\n",
    "        fig.colorbar(position='JBR+jBR+o0.5c/0.0c+w2.5c/0.33c+h', frame=['+n','xa200+lReverse    Normal '], box=['+gwhite+p1p'])\n",
    "\n",
    "\n",
    "def plot_seafloor_fabric(fig, projection, region):\n",
    "\n",
    "    pygmt.config(COLOR_FOREGROUND='white', COLOR_BACKGROUND='black')\n",
    "    pygmt.makecpt(cmap='gray', series='-60/60', reverse=True)\n",
    "    fig.basemap(frame='afg', region=region, projection=projection)\n",
    "\n",
    "    fig.plot(data=Seafloor.MagneticPicks(load=False), style='c0.01c', fill='orange', transparency=20, region=region, projection=projection, label='Magnetic Picks')\n",
    "    fig.plot(data=Seafloor.SeafloorFabric(feature_type='FZ', load=False), pen='0.15p,black', region=region, projection=projection, label='Fracture Zones')\n",
    "    fig.plot(data=Seafloor.LargeIgneousProvinces(load=False, catalogue='UTIG'), fill='red', transparency=60, region=region, projection=projection, label='Large Igneous Provinces')\n",
    "    fig.plot(data='./gis/Muller_etal_AREPS_2016_Ridges.gmt', pen='0.3p,dodgerblue', region=region, projection=projection, label='Spreading Ridges')\n",
    "\n",
    "    fig.coast(shorelines='0.5p,gray20', resolution='l', area_thresh=5000.,\n",
    "              region=region, projection=projection, land='darkgray', transparency=5)\n",
    "    fig.basemap(frame='f', region=region, projection=projection)\n",
    "    \n",
    "    with pygmt.config(FONT_ANNOT_PRIMARY='8p', FONT_LABEL='8p', MAP_FRAME_PEN='1p,black'):\n",
    "        fig.legend(position=\"JBR+jBR+o0.2c/-0.75c+w4.1c\", box=['+gwhite+p1p'])\n",
    "\n",
    "\n",
    "def PlotPanels(fig, projection, region, figsize, cmax):\n",
    "    with fig.subplot(nrows=2, ncols=3, figsize=figsize, frame=\"lrtb\", autolabel='+gwhite+pblack', margins='0.15i'):\n",
    "        with fig.set_panel(panel=0, fixedlabel='LCS'):\n",
    "            plot_mag_map(fig, LCS_rad, projection=projection, region=region, cmax=cmax)\n",
    "        with fig.set_panel(panel=1, fixedlabel='CRM'):\n",
    "            plot_mag_map(fig, model_rad_RayLab, projection=projection, region=region, cmax=cmax)\n",
    "        with fig.set_panel(panel=3, fixedlabel='Pure TRM'):\n",
    "            plot_mag_map(fig, model_rad_Simple, projection=projection, region=region, cmax=cmax)\n",
    "        with fig.set_panel(panel=4, fixedlabel='Sloping TRM'):\n",
    "            plot_mag_map(fig, model_rad_Geek, projection=projection, region=region, cmax=cmax)\n",
    "\n",
    "        with fig.set_panel(panel=2, fixedlabel='Polarity'):\n",
    "            plot_polarity(fig, polarity_da, projection, region)\n",
    "        with fig.set_panel(panel=5, fixedlabel='Seafloor Fabric'):\n",
    "            plot_seafloor_fabric(fig, projection, region)\n",
    "            "
   ]
  },
  {
   "cell_type": "code",
   "execution_count": null,
   "id": "85f5383e-634f-4928-8bd9-9247c7504fbd",
   "metadata": {
    "tags": []
   },
   "outputs": [],
   "source": [
    "projection='N0/4i'\n",
    "region = 'g'\n",
    "    \n",
    "fig = pygmt.Figure()\n",
    "\n",
    "pygmt.config(FONT_TAG='12p')\n",
    "with fig.subplot(nrows=2, ncols=2, figsize=(21,11), frame=\"lrtb\", autolabel='+gwhite+pblack', margins='0.02i'):\n",
    "    with fig.set_panel(panel=0, fixedlabel='a) LCS, 0 km'):\n",
    "        plot_mag_map(fig, LCS_rad_0km, projection=projection, region=region, cmax=50)\n",
    "    with fig.set_panel(panel=1, fixedlabel='b) LCS, 300 km'):\n",
    "        plot_mag_map(fig, LCS_rad_300km, projection=projection, region=region, cmax=10)\n",
    "    with fig.set_panel(panel=2, fixedlabel='c) Seafloor magnetization polarity'):\n",
    "        plot_polarity(fig, polarity_da, projection, region)\n",
    "    with fig.set_panel(panel=3, fixedlabel='d) Magnetic Age Picks and Seafloor Fabric'):\n",
    "        plot_seafloor_fabric(fig, projection, region)\n",
    "\n",
    "fig.savefig('./figures/figure1_global_panels_2x2.png')\n",
    "fig.show(width=1000)\n"
   ]
  },
  {
   "cell_type": "code",
   "execution_count": null,
   "id": "28a7df3a-ccff-4ee0-a5eb-99a153e2bcb5",
   "metadata": {},
   "outputs": [],
   "source": []
  }
 ],
 "metadata": {
  "kernelspec": {
   "display_name": "Python [conda env:pygmt10]",
   "language": "python",
   "name": "conda-env-pygmt10-py"
  },
  "language_info": {
   "codemirror_mode": {
    "name": "ipython",
    "version": 3
   },
   "file_extension": ".py",
   "mimetype": "text/x-python",
   "name": "python",
   "nbconvert_exporter": "python",
   "pygments_lexer": "ipython3",
   "version": "3.10.13"
  }
 },
 "nbformat": 4,
 "nbformat_minor": 5
}
